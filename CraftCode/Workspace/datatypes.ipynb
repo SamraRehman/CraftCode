{
 "cells": [
  {
   "cell_type": "markdown",
   "metadata": {},
   "source": [
    "##### Practicing with Data Types"
   ]
  },
  {
   "cell_type": "code",
   "execution_count": 3,
   "metadata": {},
   "outputs": [
    {
     "name": "stdout",
     "output_type": "stream",
     "text": [
      "1 1.5 One [1, 2, 3] {'1': 'One', '2': 'Two'}\n"
     ]
    }
   ],
   "source": [
    "VarInt=1\n",
    "VarFloat=1.5\n",
    "VarString=\"One\"\n",
    "VarList=[1,2,3]\n",
    "VarDictionary= {\"1\":\"One\", \"2\":\"Two\"}\n",
    "VarTuples=(4,5,6)\n",
    "VarBoolean= True\n",
    "#VarSets=\n",
    "print( VarInt, VarFloat, VarString, VarList, VarDictionary)"
   ]
  },
  {
   "cell_type": "markdown",
   "metadata": {},
   "source": []
  }
 ],
 "metadata": {
  "interpreter": {
   "hash": "fd2520c7d0ad4e8abd0a15a0f78e6d8779d12053bb36342fea7680f65baedf19"
  },
  "kernelspec": {
   "display_name": "Python 3.9.7 ('base')",
   "language": "python",
   "name": "python3"
  },
  "language_info": {
   "codemirror_mode": {
    "name": "ipython",
    "version": 3
   },
   "file_extension": ".py",
   "mimetype": "text/x-python",
   "name": "python",
   "nbconvert_exporter": "python",
   "pygments_lexer": "ipython3",
   "version": "3.9.7"
  },
  "orig_nbformat": 4
 },
 "nbformat": 4,
 "nbformat_minor": 2
}
