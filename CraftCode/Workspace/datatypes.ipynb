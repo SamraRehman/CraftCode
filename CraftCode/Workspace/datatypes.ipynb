{
 "cells": [
  {
   "cell_type": "markdown",
   "metadata": {},
   "source": [
    "##### Practicing with Data Types"
   ]
  },
  {
   "cell_type": "code",
   "execution_count": 3,
   "metadata": {},
   "outputs": [
    {
     "name": "stdout",
     "output_type": "stream",
     "text": [
      "1 1.5 One [1, 2, 3] {'1': 'One', '2': 'Two'}\n"
     ]
    }
   ],
   "source": [
    "VarInt=1\n",
    "VarFloat=1.5\n",
    "VarString=\"One\"\n",
    "VarList=[1,2,3]\n",
    "VarDictionary= {\"1\":\"One\", \"2\":\"Two\"}\n",
    "VarTuples=(4,5,6)\n",
    "VarBoolean= True\n",
    "#VarSets=\n",
    "print( VarInt, VarFloat, VarString, VarList, VarDictionary)"
   ]
  },
  {
   "cell_type": "markdown",
   "metadata": {},
   "source": [
    "Practicing Basic number operations"
   ]
  },
  {
   "cell_type": "code",
   "execution_count": 4,
   "metadata": {},
   "outputs": [
    {
     "name": "stdout",
     "output_type": "stream",
     "text": [
      "60\n"
     ]
    }
   ],
   "source": [
    "addition=1+2\n",
    "subtraction=5-2\n",
    "multiply=2*5\n",
    "divide=10/2\n",
    "remainder=20/9\n",
    "total=(addition+subtraction)*multiply\n",
    "print(total)"
   ]
  },
  {
   "cell_type": "markdown",
   "metadata": {},
   "source": [
    "Praticing String operations"
   ]
  },
  {
   "cell_type": "code",
   "execution_count": 9,
   "metadata": {},
   "outputs": [
    {
     "name": "stdout",
     "output_type": "stream",
     "text": [
      "['Boxycharm', 'and', 'Fabfitfun', 'is', 'awesome']\n",
      "Boxycharm\n"
     ]
    }
   ],
   "source": [
    "SubscriptionBox= \"Boxycharm and Fabfitfun is awesome\"\n",
    "\n",
    "#SubscriptionBox[0:9]\n",
    "\n",
    "Boxy=SubscriptionBox.split()\n",
    "print(Boxy)\n",
    "\n",
    "print(Boxy[0])"
   ]
  },
  {
   "cell_type": "markdown",
   "metadata": {},
   "source": [
    "Iterating a String"
   ]
  },
  {
   "cell_type": "code",
   "execution_count": 14,
   "metadata": {},
   "outputs": [
    {
     "name": "stdout",
     "output_type": "stream",
     "text": [
      "B\n",
      "o\n",
      "x\n",
      "y\n",
      "c\n",
      "h\n",
      "a\n",
      "r\n",
      "m\n",
      " \n",
      "a\n",
      "n\n",
      "d\n",
      " \n",
      "F\n",
      "a\n",
      "b\n",
      "f\n",
      "i\n",
      "t\n",
      "f\n",
      "u\n",
      "n\n",
      " \n",
      "i\n",
      "s\n",
      " \n",
      "a\n",
      "w\n",
      "e\n",
      "s\n",
      "o\n",
      "m\n",
      "e\n"
     ]
    }
   ],
   "source": [
    "SubscriptionBox\n",
    "\n",
    "for letter in SubscriptionBox:\n",
    "    print (letter)"
   ]
  },
  {
   "cell_type": "markdown",
   "metadata": {},
   "source": [
    "Number List Example"
   ]
  },
  {
   "cell_type": "code",
   "execution_count": 17,
   "metadata": {},
   "outputs": [
    {
     "name": "stdout",
     "output_type": "stream",
     "text": [
      "[1, 3, 4, 2, 6, 7, 3, 8]\n",
      "[1, 3, 4, 2, 6, 7, 3, 8]\n",
      "[1, 3, 4, 2, 6, 7, 3, 8]\n",
      "[1, 3, 4, 2, 6, 7, 3, 8]\n",
      "[1, 3, 4, 2, 6, 7, 3, 8]\n",
      "[1, 3, 4, 2, 6, 7, 3, 8]\n",
      "[1, 3, 4, 2, 6, 7, 3, 8]\n",
      "[1, 3, 4, 2, 6, 7, 3, 8]\n",
      "1\n",
      "3\n",
      "4\n",
      "2\n",
      "6\n",
      "7\n",
      "3\n",
      "8\n"
     ]
    }
   ],
   "source": [
    "Numlist= [1,3,4,2,6,7,3,8]\n",
    "\n",
    "for number in Numlist:\n",
    "        print(Numlist)\n",
    "\n",
    "for number in Numlist:\n",
    "        print(number)"
   ]
  }
 ],
 "metadata": {
  "interpreter": {
   "hash": "fd2520c7d0ad4e8abd0a15a0f78e6d8779d12053bb36342fea7680f65baedf19"
  },
  "kernelspec": {
   "display_name": "Python 3.9.7 ('base')",
   "language": "python",
   "name": "python3"
  },
  "language_info": {
   "codemirror_mode": {
    "name": "ipython",
    "version": 3
   },
   "file_extension": ".py",
   "mimetype": "text/x-python",
   "name": "python",
   "nbconvert_exporter": "python",
   "pygments_lexer": "ipython3",
   "version": "3.9.7"
  },
  "orig_nbformat": 4
 },
 "nbformat": 4,
 "nbformat_minor": 2
}
