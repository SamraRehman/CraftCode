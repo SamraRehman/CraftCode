{
 "cells": [
  {
   "cell_type": "markdown",
   "metadata": {},
   "source": [
    "<img src=\"Figures/editedLogo.png\" width=\"400\" height=\"200\" align=\"center\"/>"
   ]
  },
  {
   "cell_type": "markdown",
   "metadata": {},
   "source": [
    "<h1 align=Center><font size = 6><b>Agenda</b></font></h1>\n",
    "\n",
    "<div class=\"alert alert-block alert-info\" style=\"margin-top: 20px\">\n",
    "\n",
    "11. Intro to Computer Logic and Boolean Data Type \n",
    "2. Exercise: “If...Else”\n",
    "3. True and False Values\n",
    "4. [Quiz 6: True or False?](https://forms.gle/toTbMxHdPH83LbAA9) \n",
    "5. Intro to Comparison Operators \n",
    "6. Exercise: Comparisons \n",
    "7. [Quiz 7: Comparisons](https://forms.gle/XLGLFK7MLSHjoSig7) \n",
    "8. “If...Else If...Else” Statements \n",
    "9. Exercise: “If… Else” \n",
    "10. [Quiz 8: Flow Control](https://forms.gle/daMmrzHzqceuii3u5) \n",
    "</div>\n",
    "<hr>"
   ]
  },
  {
   "cell_type": "markdown",
   "metadata": {},
   "source": []
  }
 ],
 "metadata": {
  "language_info": {
   "name": "python"
  },
  "orig_nbformat": 4
 },
 "nbformat": 4,
 "nbformat_minor": 2
}
