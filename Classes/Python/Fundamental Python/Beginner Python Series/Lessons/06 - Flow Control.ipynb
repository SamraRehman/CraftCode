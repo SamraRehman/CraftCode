{
 "cells": [
  {
   "cell_type": "markdown",
   "metadata": {},
   "source": [
    "<img src=\"Figures/editedLogo.png\" width=\"400\" height=\"200\" align=\"center\"/>"
   ]
  },
  {
   "cell_type": "markdown",
   "metadata": {},
   "source": [
    "<h1 align=Center><font size = 6><b>Agenda</b></font></h1>\n",
    "\n",
    "<div class=\"alert alert-block alert-info\" style=\"margin-top: 20px\">\n",
    "\n",
    "\n",
    "1. Boolean Data Type \n",
    "2. If and Else\n",
    "4. [Quiz 6: True or False?](https://forms.gle/toTbMxHdPH83LbAA9) \n",
    "5. Comparison Operators \n",
    "7. [Quiz 7: Comparisons](https://forms.gle/XLGLFK7MLSHjoSig7) \n",
    "8. “If...Else If...Else” Statements \n",
    "10. [Quiz 8: Flow Control](https://forms.gle/daMmrzHzqceuii3u5) \n",
    "</div>\n",
    "<hr>"
   ]
  },
  {
   "cell_type": "markdown",
   "metadata": {},
   "source": [
    "# Boolean Data Type \n",
    "\n",
    "1. True \n",
    "2. False \n",
    "\n",
    "Type(True)\n",
    "Type(False)"
   ]
  },
  {
   "cell_type": "code",
   "execution_count": 7,
   "metadata": {},
   "outputs": [
    {
     "name": "stdout",
     "output_type": "stream",
     "text": [
      "True   False\n"
     ]
    }
   ],
   "source": [
    "x = True\n",
    "y = False\n",
    "print(x, \" \", y)"
   ]
  },
  {
   "cell_type": "code",
   "execution_count": 11,
   "metadata": {},
   "outputs": [
    {
     "data": {
      "text/plain": [
       "bool"
      ]
     },
     "execution_count": 11,
     "metadata": {},
     "output_type": "execute_result"
    }
   ],
   "source": [
    "type(x)\n",
    "type(y)"
   ]
  },
  {
   "cell_type": "markdown",
   "metadata": {},
   "source": [
    "# If and else \n",
    "\n",
    "If else statements are essentially conditional statements that are checking for if a value is true or false\n",
    "\n",
    "Let's say we're building a program that wants to verify your age to play a game. You have to be exactly 18 to play. \n",
    "\n",
    "we can create a variable for age and then use and if-else to test if you are old enough to play the game. "
   ]
  },
  {
   "cell_type": "code",
   "execution_count": 12,
   "metadata": {},
   "outputs": [
    {
     "name": "stdout",
     "output_type": "stream",
     "text": [
      "you may play\n"
     ]
    }
   ],
   "source": [
    "age = 18 \n",
    "\n",
    "if age == 18:\n",
    "    print(\"you may play\")\n",
    "else: \n",
    "    print(\"you can't play\")"
   ]
  },
  {
   "cell_type": "markdown",
   "metadata": {},
   "source": [
    "We can think of if-else statments like branches that give us greater control of our code. That is why this section is named flow control. \n",
    "\n",
    "Above we are using boolean values to verify our age to play a game. \n",
    "\n",
    "if age == 18 then we can play. We set the variable with the first line of code. \n",
    "\n",
    "18 does equal 18 so that is a true statement. Hence, we print \"you may play\". \n",
    "\n"
   ]
  },
  {
   "cell_type": "markdown",
   "metadata": {},
   "source": [
    "# Quiz 6:\n",
    "- [Quiz 6: True or False?](https://forms.gle/toTbMxHdPH83LbAA9) "
   ]
  },
  {
   "cell_type": "markdown",
   "metadata": {},
   "source": [
    "# Comparison Operators"
   ]
  },
  {
   "cell_type": "markdown",
   "metadata": {},
   "source": []
  },
  {
   "cell_type": "markdown",
   "metadata": {},
   "source": [
    "# Quiz 7\n",
    "- [Quiz 7: Comparisons](https://forms.gle/XLGLFK7MLSHjoSig7) \n"
   ]
  }
 ],
 "metadata": {
  "interpreter": {
   "hash": "a6065f6affd4c30f8649d8f0a2f8549f44f9aae395c1351a92b290b79a004109"
  },
  "kernelspec": {
   "display_name": "Python 3.8.8 64-bit ('base': conda)",
   "name": "python3"
  },
  "language_info": {
   "codemirror_mode": {
    "name": "ipython",
    "version": 3
   },
   "file_extension": ".py",
   "mimetype": "text/x-python",
   "name": "python",
   "nbconvert_exporter": "python",
   "pygments_lexer": "ipython3",
   "version": "3.8.8"
  },
  "orig_nbformat": 4
 },
 "nbformat": 4,
 "nbformat_minor": 2
}
