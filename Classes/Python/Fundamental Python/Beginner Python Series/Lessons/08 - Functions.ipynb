{
 "cells": [
  {
   "cell_type": "markdown",
   "metadata": {},
   "source": [
    "<img src=\"Figures/editedLogo.png\" width=\"400\" height=\"200\" align=\"center\"/>"
   ]
  },
  {
   "cell_type": "markdown",
   "metadata": {},
   "source": [
    "<h1 align=Center><font size = 6><b>Agenda</b></font></h1>\n",
    "\n",
    "<b> Functions  </b>\n",
    "\n",
    "1. Functions\n",
    "2. Function Declaration and Function Invocation \n",
    "3. Exercise: Your First Function \n",
    "4. Visualizing Function Execution \n",
    "5. Exercise: Visualizing Function Execution \n",
    "6. Parameters and Arguments \n",
    "7. Quiz 11: Parameters and Arguments \n",
    "8. [Returning Values from Functions](https://forms.gle/tbswqZ6ikEy41kvv9) \n",
    "9. Exercise: Returning Values from Functions \n",
    "10. [Quiz 12: Functions](https://forms.gle/BqcWvv6NrCGqD3N48) \n"
   ]
  },
  {
   "cell_type": "markdown",
   "metadata": {},
   "source": [
    "> # <b>Functions</b>"
   ]
  },
  {
   "cell_type": "markdown",
   "metadata": {},
   "source": [
    "Functions are the best. They essentially are blocks of code that will allow us to call code without having to rewrite code. \n",
    "\n",
    "Using what we've learned so far in the previous modules will be helpful when creating functions. \n",
    "\n",
    "Function utilize Flow control, loops, boolean logic, etc... "
   ]
  },
  {
   "cell_type": "markdown",
   "metadata": {},
   "source": [
    "> # <b>Creating a function</b> \n",
    "\n",
    "    def name_of_function(name):\n",
    "    \n",
    "        \"\"\"\n",
    "            A doc string that explains the function\n",
    "        \"\"\"\n",
    "\n",
    "        print(\"Hello\" + name)\n",
    "\n",
    "\n",
    "    name_of_function(\"Omar\")\n",
    "\n",
    "> Hello Omar <br>\n",
    "> jflkjsdaf"
   ]
  }
 ],
 "metadata": {
  "language_info": {
   "name": "python"
  },
  "orig_nbformat": 4
 },
 "nbformat": 4,
 "nbformat_minor": 2
}
