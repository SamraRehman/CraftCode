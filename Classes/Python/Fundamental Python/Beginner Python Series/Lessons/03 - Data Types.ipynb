{
 "cells": [
  {
   "cell_type": "markdown",
   "id": "c0f5beeb",
   "metadata": {},
   "source": [
    "<img src=\"Figures/editedLogo.png\" width=\"400\" height=\"200\" align=\"center\"/>"
   ]
  },
  {
   "cell_type": "markdown",
   "id": "a75fe9cd",
   "metadata": {},
   "source": [
    "<h1 align=center><font size = 5>Agenda</font></h1>"
   ]
  },
  {
   "cell_type": "markdown",
   "id": "6886fcc8",
   "metadata": {},
   "source": [
    "### \n",
    "<div class=\"alert alert-block alert-info\" style=\"margin-top: 20px\">\n",
    "\n",
    "1. Code Comments \n",
    "2. Intro to Data Types<br>\n",
    "    - Numeric <br>\n",
    "    - String <br>\n",
    "    - Boolean<br>\n",
    "    - List <br>\n",
    "    - dict<br>\n",
    "3. Basic Number Operations \n",
    "4. Basic String Operations\n",
    "6. Undefined \n",
    "7. Exercises: Strings and Numbers (replit) - Go over PEMDAS \n",
    "8. [Quiz 3: Data Types](https://forms.gle/mZpFVodQcrq2pmAw5)  \n",
    "</div>\n",
    "<hr>"
   ]
  },
  {
   "cell_type": "markdown",
   "metadata": {},
   "source": [
    "## Code Comments\n"
   ]
  },
  {
   "cell_type": "markdown",
   "metadata": {},
   "source": [
    "How to make comments in Python: \n",
    "- using the '#'\n",
    "- \"\"\" \"\"\"\n",
    "- "
   ]
  },
  {
   "cell_type": "code",
   "execution_count": 2,
   "metadata": {},
   "outputs": [
    {
     "data": {
      "text/plain": [
       "'stuff'"
      ]
     },
     "execution_count": 2,
     "metadata": {},
     "output_type": "execute_result"
    }
   ],
   "source": []
  },
  {
   "cell_type": "markdown",
   "metadata": {},
   "source": [
    "## Introduction To Data Types\n"
   ]
  },
  {
   "cell_type": "markdown",
   "metadata": {},
   "source": [
    "## Basic Number Operations"
   ]
  },
  {
   "cell_type": "markdown",
   "metadata": {},
   "source": [
    "## Basic String Operations"
   ]
  },
  {
   "cell_type": "markdown",
   "metadata": {},
   "source": [
    "## Undefined"
   ]
  },
  {
   "cell_type": "markdown",
   "metadata": {},
   "source": [
    "## Exercise: Strings and Numbers (replit) - Go Over Pemdas"
   ]
  },
  {
   "cell_type": "markdown",
   "metadata": {},
   "source": [
    "## Quiz 3: Data Types\n",
    "- [Quiz 3: Data Types](https://forms.gle/mZpFVodQcrq2pmAw5)  "
   ]
  },
  {
   "cell_type": "markdown",
   "metadata": {},
   "source": []
  }
 ],
 "metadata": {
  "interpreter": {
   "hash": "40d3a090f54c6569ab1632332b64b2c03c39dcf918b08424e98f38b5ae0af88f"
  },
  "kernelspec": {
   "display_name": "Python 3.8.8 64-bit ('base': conda)",
   "name": "python3"
  },
  "language_info": {
   "codemirror_mode": {
    "name": "ipython",
    "version": 3
   },
   "file_extension": ".py",
   "mimetype": "text/x-python",
   "name": "python",
   "nbconvert_exporter": "python",
   "pygments_lexer": "ipython3",
   "version": "3.8.8"
  }
 },
 "nbformat": 4,
 "nbformat_minor": 5
}
