{
 "cells": [
  {
   "cell_type": "markdown",
   "metadata": {},
   "source": [
    "<img src=\"Figures/editedLogo.png\" width=\"400\" height=\"200\" align=\"center\"/>"
   ]
  },
  {
   "cell_type": "markdown",
   "metadata": {},
   "source": [
    "<h1 align=Center><font size = 6><b>Agenda</b></font></h1>\n",
    "\n",
    "<b> Boolean Logic  </b>\n",
    "\n",
    "1. Boolean Logic \n",
    "2. [Quiz 9: Boolean logic](https://forms.gle/RLBkTD8yPV2TFZUr6) \n",
    "3. Logical Operators \n",
    "4. [Quiz 10: Boolean Logic (Python)](https://forms.gle/cCMQ2arJvDbf3kPVA) \n",
    "5. Exercise: Boolean Logic"
   ]
  },
  {
   "cell_type": "markdown",
   "metadata": {},
   "source": [
    "# Boolean Logic "
   ]
  },
  {
   "cell_type": "markdown",
   "metadata": {},
   "source": [
    "<img src=\"Figures/Boolean Operators.png\" width=\"300\" height=\"300\" align=\"Center\"/>"
   ]
  },
  {
   "cell_type": "markdown",
   "metadata": {},
   "source": []
  }
 ],
 "metadata": {
  "language_info": {
   "name": "python"
  },
  "orig_nbformat": 4
 },
 "nbformat": 4,
 "nbformat_minor": 2
}
